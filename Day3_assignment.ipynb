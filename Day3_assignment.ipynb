{
  "nbformat": 4,
  "nbformat_minor": 0,
  "metadata": {
    "colab": {
      "name": "Day3 assignment.ipynb",
      "provenance": [],
      "collapsed_sections": []
    },
    "kernelspec": {
      "name": "python3",
      "display_name": "Python 3"
    }
  },
  "cells": [
    {
      "cell_type": "markdown",
      "metadata": {
        "id": "k53WjanT4iqd",
        "colab_type": "text"
      },
      "source": [
        "ASSIGNMENT1**"
      ]
    },
    {
      "cell_type": "code",
      "metadata": {
        "id": "tdoxQfQr4vZP",
        "colab_type": "code",
        "colab": {
          "base_uri": "https://localhost:8080/",
          "height": 34
        },
        "outputId": "9a80784d-eaf7-465e-b42a-56976f8cfaf4"
      },
      "source": [
        "x=2500\n",
        "if(x<=1000):\n",
        "  print(\"safe to land\")\n",
        "elif(x<=5000):\n",
        "  print(\"bring it further down to 1000 \")\n",
        "else:\n",
        "  print(\"turn around and attempt later\")"
      ],
      "execution_count": null,
      "outputs": [
        {
          "output_type": "stream",
          "text": [
            "bring it further down to 1000 \n"
          ],
          "name": "stdout"
        }
      ]
    },
    {
      "cell_type": "markdown",
      "metadata": {
        "id": "npDrSt6I42iW",
        "colab_type": "text"
      },
      "source": [
        "**ASSIGNMENT2**"
      ]
    },
    {
      "cell_type": "code",
      "metadata": {
        "id": "PGFYYrshAfg3",
        "colab_type": "code",
        "colab": {
          "base_uri": "https://localhost:8080/",
          "height": 816
        },
        "outputId": "819c87c2-7b34-40db-ac11-6447cf9c886d"
      },
      "source": [
        "a=1\n",
        "b=200\n",
        "print(\"Prime numbers between\",a, \"and\",b, \"are:\")\n",
        "for num in range(a,b + 1):\n",
        "   if num > 1:\n",
        "       for i in range(2, num):\n",
        "           if (num % i) == 0:\n",
        "               break\n",
        "       else:\n",
        "           print(num)"
      ],
      "execution_count": null,
      "outputs": [
        {
          "output_type": "stream",
          "text": [
            "Prime numbers between 1 and 200 are:\n",
            "2\n",
            "3\n",
            "5\n",
            "7\n",
            "11\n",
            "13\n",
            "17\n",
            "19\n",
            "23\n",
            "29\n",
            "31\n",
            "37\n",
            "41\n",
            "43\n",
            "47\n",
            "53\n",
            "59\n",
            "61\n",
            "67\n",
            "71\n",
            "73\n",
            "79\n",
            "83\n",
            "89\n",
            "97\n",
            "101\n",
            "103\n",
            "107\n",
            "109\n",
            "113\n",
            "127\n",
            "131\n",
            "137\n",
            "139\n",
            "149\n",
            "151\n",
            "157\n",
            "163\n",
            "167\n",
            "173\n",
            "179\n",
            "181\n",
            "191\n",
            "193\n",
            "197\n",
            "199\n"
          ],
          "name": "stdout"
        }
      ]
    }
  ]
}