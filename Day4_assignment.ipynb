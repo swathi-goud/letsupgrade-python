{
  "nbformat": 4,
  "nbformat_minor": 0,
  "metadata": {
    "colab": {
      "name": "Day4 assignment.ipynb",
      "provenance": [],
      "collapsed_sections": []
    },
    "kernelspec": {
      "name": "python3",
      "display_name": "Python 3"
    }
  },
  "cells": [
    {
      "cell_type": "code",
      "metadata": {
        "id": "ozFQ0bnSHwz_",
        "colab_type": "code",
        "colab": {
          "base_uri": "https://localhost:8080/",
          "height": 34
        },
        "outputId": "0074aadb-287d-434a-f811-84a4bd1d9960"
      },
      "source": [
        "a=1042000\n",
        "b=702648265\n",
        "print(\"armstrong numbers between\",a,\"and\",b,\"are:\")\n",
        "for num in range(a,b+1):\n",
        "  order=len(str(num))\n",
        "  sum=0\n",
        "  temp=num\n",
        "  while temp>0:\n",
        "    digit=temp%10\n",
        "    sum+=digit**order\n",
        "    temp//10\n",
        "  if num==sum:\n",
        "    print(num)"
      ],
      "execution_count": null,
      "outputs": [
        {
          "output_type": "stream",
          "text": [
            "armstrong numbers between 1042000 and 702648265 are:\n"
          ],
          "name": "stdout"
        }
      ]
    }
  ]
}