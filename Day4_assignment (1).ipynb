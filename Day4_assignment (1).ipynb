{
  "nbformat": 4,
  "nbformat_minor": 0,
  "metadata": {
    "colab": {
      "name": "Day4 assignment.ipynb",
      "provenance": [],
      "collapsed_sections": []
    },
    "kernelspec": {
      "name": "python3",
      "display_name": "Python 3"
    }
  },
  "cells": [
    {
      "cell_type": "code",
      "metadata": {
        "id": "dh-TyZzKwJB5",
        "colab_type": "code",
        "colab": {
          "base_uri": "https://localhost:8080/",
          "height": 187
        },
        "outputId": "a683dec2-69b9-465a-d252-b74fd460123b"
      },
      "source": [
        "lower = 1042000\n",
        "upper = 702648265\n",
        "for num in range(lower, upper + 1):\n",
        "   order = len(str(num))\n",
        "   sum = 0\n",
        "   temp = num\n",
        "   while temp > 0:\n",
        "       digit = temp % 10\n",
        "       sum += digit ** order\n",
        "       temp //= 10\n",
        "   if num == sum:\n",
        "       print(num)"
      ],
      "execution_count": 4,
      "outputs": [
        {
          "output_type": "stream",
          "text": [
            "1741725\n",
            "4210818\n",
            "9800817\n",
            "9926315\n",
            "24678050\n",
            "24678051\n",
            "88593477\n",
            "146511208\n",
            "472335975\n",
            "534494836\n"
          ],
          "name": "stdout"
        }
      ]
    }
  ]
}